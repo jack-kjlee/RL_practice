{
 "cells": [
  {
   "cell_type": "markdown",
   "metadata": {},
   "source": [
    "# Slot Machine Game\n",
    "- Object: get more coin\n",
    "- Episode: 1 Action\n",
    "- State: (X)\n",
    "- Action: Which arm do you choose?\n",
    "- Reward: +1 if get coin\n",
    "- Learning Method: epsilon-greedy, UCB1"
   ]
  },
  {
   "cell_type": "code",
   "execution_count": 1,
   "metadata": {},
   "outputs": [],
   "source": [
    "import numpy as np\n",
    "import random\n",
    "import math\n",
    "import pandas as pd\n",
    "import matplotlib.pyplot as plt\n",
    "%matplotlib inline"
   ]
  },
  {
   "cell_type": "code",
   "execution_count": 5,
   "metadata": {},
   "outputs": [],
   "source": [
    "class SlotArm():\n",
    "    def __init__(self, probability):\n",
    "        self.probability = probability\n",
    "        \n",
    "    def draw(self):\n",
    "        if(self.probability > random.random()):\n",
    "            return 1.0\n",
    "        else:\n",
    "            return 0.0\n",
    "        \n",
    "class EpsilonGreedy():\n",
    "    def __init__(self, epsilon):\n",
    "        self.epsilon = epsilon\n",
    "        \n",
    "    def initialize(self, n_arms):\n",
    "        self.n_actions = np.zeros(n_arms) # the number of actions\n",
    "        self.values = np.zeros(n_arms) # value of each arm\n",
    "    \n",
    "    def select_arm(self):\n",
    "        if(self.epsilon > random.random()):\n",
    "            # select arm randomly\n",
    "            return np.random.randint(0, len(self.values))\n",
    "        else:\n",
    "            # select arm which has max value\n",
    "            return np.argmax(self.values)\n",
    "        \n",
    "    def update(self, chosen_arm, reward, t):\n",
    "        self.n_actions[chosen_arm] += 1\n",
    "        \n",
    "        n_actions = self.n_actions[chosen_arm]\n",
    "        values = self.values[chosen_arm]\n",
    "        \n",
    "        self.values[chosen_arm] = ((n_actions-1)/float(n_actions)) * values + (1/float(n_actions)) * reward\n",
    "        \n",
    "    def label(self):\n",
    "        return 'epsilon-greedy(' + str(self.epsilon) + ')'\n",
    "    \n",
    "    \n",
    "class UCB1():\n",
    "    def initialize(self, n_arms):\n",
    "        self.n_actions = np.zeros(n_arms)\n",
    "        self.n_success = np.zeros(n_arms)\n",
    "        self.values = np.zeros(n_arms)\n",
    "        \n",
    "    def select_arm(self):\n",
    "        for i in range(len(self.n_actions)):\n",
    "            if(self.n_actions[i] == 0):\n",
    "                return i\n",
    "        return np.argmax(self.values)\n",
    "    \n",
    "    def update(self, chosen_arm, reward, t):\n",
    "        self.n_actions[chosen_arm] += 1\n",
    "        \n",
    "        if(reward == 1.0):\n",
    "            self.n_success[chosen_arm] += 1\n",
    "            \n",
    "        for i in range(len(self.n_actions)):\n",
    "            if(self.n_actions[i] == 0):\n",
    "                return\n",
    "            \n",
    "        for i in range(len(self.values)):\n",
    "            self.values[i] = (self.n_success[i] / self.n_actions[i]) + ((2*math.log(t)/self.n_actions[i])**0.5)\n",
    "            \n",
    "    def label(self):\n",
    "        return 'UCB1'"
   ]
  },
  {
   "cell_type": "code",
   "execution_count": 6,
   "metadata": {},
   "outputs": [],
   "source": [
    "def play(algorithm, arms, n_simulations, n_times):\n",
    "    times = np.zeros(n_simulations * n_times)\n",
    "    rewards = np.zeros(n_simulations * n_times)\n",
    "    \n",
    "    for simulation in range(n_simulations):\n",
    "        algorithm.initialize(len(arms))\n",
    "        \n",
    "        for time in range(n_times):\n",
    "            index = simulation * n_times + time\n",
    "            \n",
    "            times[index] = time + 1\n",
    "            chosen_arm = algorithm.select_arm()\n",
    "            reward = arms[chosen_arm].draw()\n",
    "            rewards[index] = reward\n",
    "            \n",
    "            algorithm.update(chosen_arm, reward, time+1)\n",
    "    \n",
    "    return [times, rewards]"
   ]
  },
  {
   "cell_type": "code",
   "execution_count": 7,
   "metadata": {},
   "outputs": [
    {
     "data": {
      "image/png": "[encoded data removed]",
      "text/plain": [
       "<Figure size 432x288 with 1 Axes>"
      ]
     },
     "metadata": {
      "needs_background": "light"
     },
     "output_type": "display_data"
    }
   ],
   "source": [
    "arms = (SlotArm(0.3), SlotArm(0.5), SlotArm(0.9))\n",
    "algorithms = (EpsilonGreedy(0.1), UCB1())\n",
    "\n",
    "for algo in algorithms:\n",
    "    results = play(algo, arms, 1000, 250)\n",
    "    \n",
    "    df = pd.DataFrame({'times': results[0], 'rewards': results[1]})\n",
    "    mean = df['rewards'].groupby(df['times']).mean()\n",
    "    plt.plot(mean, label=algo.label())\n",
    "    \n",
    "plt.xlabel('Step')\n",
    "plt.ylabel('Average Reward')\n",
    "plt.legend(loc='best')\n",
    "plt.show()"
   ]
  }
 ],
 "metadata": {
  "kernelspec": {
   "display_name": "rl_practice",
   "language": "python",
   "name": "rl_practice"
  },
  "language_info": {
   "codemirror_mode": {
    "name": "ipython",
    "version": 3
   },
   "file_extension": ".py",
   "mimetype": "text/x-python",
   "name": "python",
   "nbconvert_exporter": "python",
   "pygments_lexer": "ipython3",
   "version": "3.6.10"
  }
 },
 "nbformat": 4,
 "nbformat_minor": 4
}
