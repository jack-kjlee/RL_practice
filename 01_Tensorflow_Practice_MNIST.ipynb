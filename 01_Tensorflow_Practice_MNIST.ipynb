{
 "cells": [
  {
   "cell_type": "code",
   "execution_count": 6,
   "metadata": {},
   "outputs": [],
   "source": [
    "from tensorflow.keras.datasets import mnist\n",
    "from tensorflow.keras.layers import Activation, Dense, Dropout\n",
    "from tensorflow.keras.models import Sequential\n",
    "from tensorflow.keras.optimizers import SGD\n",
    "from tensorflow.keras.utils import to_categorical\n",
    "\n",
    "import numpy as np\n",
    "\n",
    "import matplotlib.pyplot as plt\n",
    "%matplotlib inline"
   ]
  },
  {
   "cell_type": "markdown",
   "metadata": {},
   "source": [
    "# 1. Datasets"
   ]
  },
  {
   "cell_type": "code",
   "execution_count": 36,
   "metadata": {},
   "outputs": [
    {
     "name": "stdout",
     "output_type": "stream",
     "text": [
      "Train Images:  (60000, 28, 28)\n",
      "Train Labels:  (60000,)\n",
      "Test  Images:  (10000, 28, 28)\n",
      "Test  Labels:  (10000,)\n",
      "==================================================\n",
      "<Train Datasets>\n"
     ]
    },
    {
     "data": {
      "image/png": "[encoded data removed]",
      "text/plain": [
       "<Figure size 432x288 with 10 Axes>"
      ]
     },
     "metadata": {
      "needs_background": "light"
     },
     "output_type": "display_data"
    },
    {
     "name": "stdout",
     "output_type": "stream",
     "text": [
      "Train Labels:  [5 0 4 1 9 2 1 3 1 4]\n",
      "==================================================\n",
      "<Test Datasets>\n"
     ]
    },
    {
     "data": {
      "image/png": "[encoded data removed]",
      "text/plain": [
       "<Figure size 432x288 with 10 Axes>"
      ]
     },
     "metadata": {
      "needs_background": "light"
     },
     "output_type": "display_data"
    },
    {
     "name": "stdout",
     "output_type": "stream",
     "text": [
      "Test Labels:  [7 2 1 0 4 1 4 9 5 9]\n"
     ]
    }
   ],
   "source": [
    "(train_images, train_labels), (test_images, test_labels) = mnist.load_data()\n",
    "\n",
    "print(\"Train Images: \", train_images.shape)\n",
    "print(\"Train Labels: \", train_labels.shape)\n",
    "print(\"Test  Images: \", test_images.shape)\n",
    "print(\"Test  Labels: \", test_labels.shape)\n",
    "\n",
    "print(\"=\"*50)\n",
    "print(\"<Train Datasets>\")\n",
    "for i in range(10):\n",
    "    plt.subplot(1, 10, i+1)\n",
    "    plt.imshow(train_images[i], 'gray')\n",
    "plt.show()\n",
    "print(\"Train Labels: \", train_labels[0:10])\n",
    "\n",
    "print(\"=\"*50)\n",
    "print(\"<Test Datasets>\")\n",
    "for i in range(10):\n",
    "    plt.subplot(1, 10, i+1)\n",
    "    plt.imshow(test_images[i], 'gray')\n",
    "plt.show()\n",
    "print(\"Test Labels: \", test_labels[0:10])"
   ]
  },
  {
   "cell_type": "markdown",
   "metadata": {},
   "source": [
    "# 2. Pre-process"
   ]
  },
  {
   "cell_type": "code",
   "execution_count": 37,
   "metadata": {},
   "outputs": [
    {
     "name": "stdout",
     "output_type": "stream",
     "text": [
      "Train Images:  (60000, 784)\n",
      "Train Labels:  (60000, 10)\n",
      "Test  Images:  (10000, 784)\n",
      "Test  Labels:  (10000, 10)\n"
     ]
    }
   ],
   "source": [
    "train_images = train_images.reshape((train_images.shape[0], 784))\n",
    "train_labels = to_categorical(train_labels)\n",
    "\n",
    "test_images = test_imgaes.reshape((test_images.shape[0], 784))\n",
    "test_labels = to_categorical(test_labels)\n",
    "\n",
    "print(\"Train Images: \", train_images.shape)\n",
    "print(\"Train Labels: \", train_labels.shape)\n",
    "print(\"Test  Images: \", test_imgaes.shape)\n",
    "print(\"Test  Labels: \", test_labels.shape)"
   ]
  },
  {
   "cell_type": "markdown",
   "metadata": {},
   "source": [
    "# 3. Model"
   ]
  },
  {
   "cell_type": "code",
   "execution_count": 29,
   "metadata": {},
   "outputs": [
    {
     "name": "stdout",
     "output_type": "stream",
     "text": [
      "<tensorflow.python.keras.engine.sequential.Sequential object at 0x7faf201dc0f0>\n"
     ]
    }
   ],
   "source": [
    "model = Sequential()\n",
    "model.add( Dense(256, input_shape=(784,)) )\n",
    "model.add( Activation('sigmoid') )\n",
    "model.add( Dense(128) )\n",
    "model.add( Activation('sigmoid') )\n",
    "model.add( Dropout(rate=0.5) )\n",
    "model.add( Dense(10, activation='softmax') )\n",
    "\n",
    "loss_func = 'categorical_crossentropy'\n",
    "learning_rate = 0.1\n",
    "\n",
    "optimizer = SGD(lr=learning_rate)\n",
    "\n",
    "model.compile(loss=loss_func, optimizer=optimizer, metrics=['acc'])"
   ]
  },
  {
   "cell_type": "markdown",
   "metadata": {},
   "source": [
    "# 4. Training"
   ]
  },
  {
   "cell_type": "code",
   "execution_count": 38,
   "metadata": {},
   "outputs": [
    {
     "name": "stdout",
     "output_type": "stream",
     "text": [
      "Train on 48000 samples, validate on 12000 samples\n",
      "Epoch 1/5\n",
      "48000/48000 [==============================] - 1s 23us/sample - loss: 0.4392 - acc: 0.8781 - val_loss: 0.3063 - val_acc: 0.9176\n",
      "Epoch 2/5\n",
      "48000/48000 [==============================] - 1s 21us/sample - loss: 0.4086 - acc: 0.8863 - val_loss: 0.2877 - val_acc: 0.9210\n",
      "Epoch 3/5\n",
      "48000/48000 [==============================] - 1s 22us/sample - loss: 0.3806 - acc: 0.8924 - val_loss: 0.2723 - val_acc: 0.9241\n",
      "Epoch 4/5\n",
      "48000/48000 [==============================] - 1s 22us/sample - loss: 0.3603 - acc: 0.9000 - val_loss: 0.2602 - val_acc: 0.9272\n",
      "Epoch 5/5\n",
      "48000/48000 [==============================] - 1s 23us/sample - loss: 0.3428 - acc: 0.9042 - val_loss: 0.2483 - val_acc: 0.9302\n"
     ]
    }
   ],
   "source": [
    "batch_size = 500\n",
    "epochs = 5\n",
    "validation_split = 0.2\n",
    "\n",
    "history = model.fit(train_images, train_labels, batch_size=batch_size, epochs=epochs, validation_split=validation_split)"
   ]
  },
  {
   "cell_type": "markdown",
   "metadata": {},
   "source": [
    "# 5. Plot Training Result"
   ]
  },
  {
   "cell_type": "code",
   "execution_count": 39,
   "metadata": {},
   "outputs": [
    {
     "data": {
      "image/png": "[encoded data removed]",
      "text/plain": [
       "<Figure size 432x288 with 1 Axes>"
      ]
     },
     "metadata": {
      "needs_background": "light"
     },
     "output_type": "display_data"
    }
   ],
   "source": [
    "plt.plot(history.history['acc'], label='acc')\n",
    "plt.plot(history.history['val_acc'], label='val_acc')\n",
    "plt.ylabel('ACC')\n",
    "plt.xlabel('epoch')\n",
    "plt.legend(loc='best')\n",
    "plt.show()"
   ]
  },
  {
   "cell_type": "markdown",
   "metadata": {},
   "source": [
    "# 6. Evaluation"
   ]
  },
  {
   "cell_type": "code",
   "execution_count": 40,
   "metadata": {},
   "outputs": [
    {
     "name": "stdout",
     "output_type": "stream",
     "text": [
      "10000/10000 [==============================] - 1s 58us/sample - loss: 0.2515 - acc: 0.9314\n",
      "loss: 0.252 \t acc: 0.931\n"
     ]
    }
   ],
   "source": [
    "test_loss, test_acc = model.evaluate(test_images, test_labels)\n",
    "print('loss: {:.3f} \\t acc: {:.3f}'.format(test_loss, test_acc))"
   ]
  },
  {
   "cell_type": "markdown",
   "metadata": {},
   "source": [
    "# 7. Prediction"
   ]
  },
  {
   "cell_type": "code",
   "execution_count": 42,
   "metadata": {},
   "outputs": [
    {
     "data": {
      "image/png": "[encoded data removed]",
      "text/plain": [
       "<Figure size 432x288 with 10 Axes>"
      ]
     },
     "metadata": {
      "needs_background": "light"
     },
     "output_type": "display_data"
    },
    {
     "name": "stdout",
     "output_type": "stream",
     "text": [
      "[7 2 1 0 4 1 4 9 6 9]\n"
     ]
    }
   ],
   "source": [
    "for i in range(10):\n",
    "    plt.subplot(1, 10, i+1)\n",
    "    plt.imshow( test_images[i].reshape((28, 28)), 'gray' )\n",
    "plt.show()\n",
    "\n",
    "test_prediction = model.predict(test_images[0: 10])\n",
    "test_prediction = np.argmax(test_prediction, axis=1)\n",
    "print(test_prediction)"
   ]
  }
 ],
 "metadata": {
  "kernelspec": {
   "display_name": "rl_practice",
   "language": "python",
   "name": "rl_practice"
  },
  "language_info": {
   "codemirror_mode": {
    "name": "ipython",
    "version": 3
   },
   "file_extension": ".py",
   "mimetype": "text/x-python",
   "name": "python",
   "nbconvert_exporter": "python",
   "pygments_lexer": "ipython3",
   "version": "3.6.10"
  }
 },
 "nbformat": 4,
 "nbformat_minor": 4
}
