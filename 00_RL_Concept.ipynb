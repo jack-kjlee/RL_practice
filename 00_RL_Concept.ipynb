{
 "cells": [
  {
   "cell_type": "markdown",
   "metadata": {},
   "source": [
    "# Reinforcement Learning\n",
    "<hr/>\n",
    "\n",
    "- Agent: 행동 주체\n",
    "- Environment: Agent가 존재하는 세계\n",
    "- Action: Agent가 Environment에서 일으키는 움직임\n",
    "- State: Agent의 Action에 따라 변화는 Environment\n",
    "- Reward: Action을 평가하는 지표\n",
    "- Policy: Action을 선택하기 위한 전략\n",
    "    - Immediate reward: Action 직후에 받는 Reward\n",
    "    - Discounted reward: 추후에 기대되는 Reward\n",
    "- Interest: Immediate reward와 Discounted reward의 합\n",
    "- Value: Agent의 state와 policy를 특정 경우로 고정했을 때 Reward\n",
    "\n",
    "<hr/>"
   ]
  },
  {
   "cell_type": "markdown",
   "metadata": {},
   "source": [
    "![title](./img/00_RL_overall.png)\n",
    "\n",
    "1. (Initialization) Random하게 Action 선택\n",
    "2. Environment로 부터 reward\n",
    "3. Policy 개선\n",
    "4. 1~3 반복\n",
    "\n",
    "=> Markov Decision Process (MDP)\n",
    "\n",
    "<hr />"
   ]
  },
  {
   "cell_type": "markdown",
   "metadata": {},
   "source": [
    "- Policy Iteration: 성공한 Action을 계속해서 많이 선택하는 방법\n",
    "    - ex) Policy Gradient\n",
    "- Value Iteration: Current State Value와 Next State Value의 차이를 계산하고, 그 차이만큼 Current State Value를 증가시키는 방법\n",
    "    - ex) Sarsa, Q-Learning"
   ]
  }
 ],
 "metadata": {
  "kernelspec": {
   "display_name": "Python 3",
   "language": "python",
   "name": "python3"
  },
  "language_info": {
   "codemirror_mode": {
    "name": "ipython",
    "version": 3
   },
   "file_extension": ".py",
   "mimetype": "text/x-python",
   "name": "python",
   "nbconvert_exporter": "python",
   "pygments_lexer": "ipython3",
   "version": "3.6.9"
  }
 },
 "nbformat": 4,
 "nbformat_minor": 4
}
